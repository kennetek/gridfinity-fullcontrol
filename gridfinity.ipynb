{
  "nbformat": 4,
  "nbformat_minor": 0,
  "metadata": {
    "colab": {
      "provenance": []
    },
    "kernelspec": {
      "name": "python3",
      "display_name": "Python 3"
    },
    "language_info": {
      "name": "python"
    }
  },
  "cells": [
    {
      "cell_type": "markdown",
      "source": [
        "# Gridfinity FullControl\n",
        "[FullControl by Andy Gleadall and Dirk Leas](https://github.com/FullControlXYZ/fullcontrol)\n",
        "\n",
        "[Gridfinity by Zack Freedman](https://www.youtube.com/watch?v=ra_9zU-mnl8)\n",
        "\n",
        "The goal of this project was to print bins as fast as possible with as little filament as possible. This code can only make 1 wide bins, of any integer length and any height, to supply just the basics.\n",
        "\n",
        "The fullcontrol library used for this project has been modified from its original, to include support for arcs (G2/G3 commands) with the hope that it would print faster. I was not really able to get faster printing myself, but would love to see someone else really push the limit of how fast a single bin can be printed."
      ],
      "metadata": {
        "id": "kD3k6hZP7L4V"
      }
    },
    {
      "cell_type": "markdown",
      "source": [
        "First, the library needs to be installed."
      ],
      "metadata": {
        "id": "Z-dYXgrbbA17"
      }
    },
    {
      "cell_type": "code",
      "execution_count": null,
      "metadata": {
        "id": "oDEFwaQ04neE"
      },
      "outputs": [],
      "source": [
        "if 'google.colab' in str(get_ipython()):\n",
        "  !pip install git+https://github.com/kennetek/gridfinity-fullcontrol --quiet\n",
        "import fullcontrol as fc"
      ]
    },
    {
      "cell_type": "markdown",
      "source": [
        "Next, set the options and generate the object. You need to change these to suit your filament and printer. The all caps variables are specific to this program, the rest are from FullControl (except print_speed_bridge)."
      ],
      "metadata": {
        "id": "XKZy5eGO7POP"
      }
    },
    {
      "cell_type": "code",
      "source": [
        "options = {\n",
        "    'EW': 0.8, # extrusion width (mm)\n",
        "    'EH': 0.30, # extrusion height (mm)\n",
        "    'LENGTH': 42, # base unit (mm) [numbers that are not 42 are untested and probably won't work]\n",
        "    'HEIGHT': 42, # distance from bottom of base to top of label shelf (mm)\n",
        "    'SPAN': 1, # how many units long\n",
        "    'nozzle_temp': 225, # printer nozzle temperature (C)\n",
        "    'bed_temp': 85, # printer bed temperature (C)\n",
        "    'print_speed': 1800, # speed for most print moves\n",
        "    'print_speed_bridge': 300, # speed when bridging label shelf\n",
        "    'fan_percent': 20, # cooling fan speed percent\n",
        "    'printer_name': 'prusa_mini', # I have a prusa mini so I made a profile for it. see fullcontrol for the supported printers\n",
        "}\n",
        "\n",
        "gridfinity = fc.Gridfinity(options)\n",
        "steps = gridfinity.generate(90, 90) # the x and y coordinate for the center of the bin"
      ],
      "metadata": {
        "id": "3-4i63ke7pSu"
      },
      "execution_count": 9,
      "outputs": []
    },
    {
      "cell_type": "markdown",
      "source": [
        "Finally, generate the Gcode and save it to file. (Make sure to refresh file browser on left to see file)"
      ],
      "metadata": {
        "id": "dAvx5MAd7yMr"
      }
    },
    {
      "cell_type": "code",
      "source": [
        "span = options['SPAN']\n",
        "height = options['HEIGHT']\n",
        "gcode_controls = fc.GcodeControls(\n",
        "    printer_name=options['printer_name'],\n",
        "    save_as= f'1x{span}x{height}-gridfinity-fullcontrol',\n",
        "    initialization_data={\n",
        "        'primer': 'no_primer',\n",
        "        'print_speed': options['print_speed'],\n",
        "        'nozzle_temp': options['nozzle_temp'],\n",
        "        'bed_temp': options['bed_temp'],\n",
        "        'fan_percent': options['fan_percent'],\n",
        "        'extrusion_width': options['EW'],\n",
        "        'extrusion_height': options['EH'],\n",
        "        'relative_e': True})\n",
        "gcode = fc.transform(steps, 'gcode', gcode_controls)"
      ],
      "metadata": {
        "id": "v6xTUHeq7vgt"
      },
      "execution_count": 12,
      "outputs": []
    },
    {
      "cell_type": "markdown",
      "source": [
        "### Plot style 1 (optional, for viewing only).\n",
        "Shows the gcode lines. Render will take a while on colab and likely slow down your browser."
      ],
      "metadata": {
        "id": "8ZABMr_O7rdf"
      }
    },
    {
      "cell_type": "code",
      "source": [
        "fc.transform(steps, 'plot', fc.PlotControls(style='line', zoom=0.7))"
      ],
      "metadata": {
        "id": "LEHNnCLz7uo0"
      },
      "execution_count": null,
      "outputs": []
    },
    {
      "cell_type": "markdown",
      "source": [
        "### Plot style 2 (optional, for viewing only)\n",
        "Shows the gcode lines with 3D geometry to mimic the real printed geometry. Render will take a while on colab and likely slow down your browser.  "
      ],
      "metadata": {
        "id": "hsVEMpCn7u38"
      }
    },
    {
      "cell_type": "code",
      "source": [
        "plot_controls = fc.PlotControls(\n",
        "    style='tube',\n",
        "    zoom=0.7,\n",
        "    initialization_data={\n",
        "        'extrusion_width': options['EW'],\n",
        "        'extrusion_height': options['EH']})\n",
        "fc.transform(steps, 'plot', plot_controls)"
      ],
      "metadata": {
        "id": "6LSXjllF7vBs"
      },
      "execution_count": null,
      "outputs": []
    },
    {
      "cell_type": "markdown",
      "source": [
        "### Plot style 3 (optional, for viewing only)\n",
        "Shows the gcode lines with 3D geometry to mimic the real printed geometry and makes it prettier for publishing. Render will take a while on colab and likely slow down your browser.  "
      ],
      "metadata": {
        "id": "AoaO-JU57vaZ"
      }
    },
    {
      "cell_type": "code",
      "source": [
        "# uncomment the next line to create a neat preview (click the top-left button in the plot for a .png file) - post and tag @FullControlXYZ :)\n",
        "plot_controls = fc.PlotControls(\n",
        "    neat_for_publishing=True,\n",
        "    zoom=0.5,\n",
        "    initialization_data={\n",
        "        'extrusion_width': options['EW'],\n",
        "        'extrusion_height': options['EH']})\n",
        "fc.transform(steps, 'plot', plot_controls)"
      ],
      "metadata": {
        "id": "2D1pgBBf7yWy"
      },
      "execution_count": null,
      "outputs": []
    }
  ]
}